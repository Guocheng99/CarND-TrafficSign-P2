{
 "cells": [
  {
   "cell_type": "markdown",
   "metadata": {},
   "source": [
    "# Self-Driving Car Engineer Nanodegree\n",
    "\n",
    "## Deep Learning\n",
    "\n",
    "## Project: Build a Traffic Sign Recognition Classifier\n",
    "\n",
    "In this notebook, a template is provided for you to implement your functionality in stages, which is required to successfully complete this project. If additional code is required that cannot be included in the notebook, be sure that the Python code is successfully imported and included in your submission if necessary. \n",
    "\n",
    "> **Note**: Once you have completed all of the code implementations, you need to finalize your work by exporting the iPython Notebook as an HTML document. Before exporting the notebook to html, all of the code cells need to have been run so that reviewers can see the final implementation and output. You can then export the notebook by using the menu above and navigating to  \\n\",\n",
    "    \"**File -> Download as -> HTML (.html)**. Include the finished document along with this notebook as your submission. \n",
    "\n",
    "In addition to implementing code, there is a writeup to complete. The writeup should be completed in a separate file, which can be either a markdown file or a pdf document. There is a [write up template](https://github.com/udacity/CarND-Traffic-Sign-Classifier-Project/blob/master/writeup_template.md) that can be used to guide the writing process. Completing the code template and writeup template will cover all of the [rubric points](https://review.udacity.com/#!/rubrics/481/view) for this project.\n",
    "\n",
    "The [rubric](https://review.udacity.com/#!/rubrics/481/view) contains \"Stand Out Suggestions\" for enhancing the project beyond the minimum requirements. The stand out suggestions are optional. If you decide to pursue the \"stand out suggestions\", you can include the code in this Ipython notebook and also discuss the results in the writeup file.\n",
    "\n",
    "\n",
    ">**Note:** Code and Markdown cells can be executed using the **Shift + Enter** keyboard shortcut. In addition, Markdown cells can be edited by typically double-clicking the cell to enter edit mode."
   ]
  },
  {
   "cell_type": "markdown",
   "metadata": {},
   "source": [
    "---\n",
    "## Step 0: Load The Data"
   ]
  },
  {
   "cell_type": "code",
   "execution_count": 1,
   "metadata": {
    "collapsed": true
   },
   "outputs": [],
   "source": [
    "# Load pickled data\n",
    "import pickle\n",
    "\n",
    "# TODO: Fill this in based on where you saved the training and testing data\n",
    "\n",
    "training_file = 'data/train.p'\n",
    "validation_file= 'data/valid.p'\n",
    "testing_file = 'data/test.p'\n",
    "\n",
    "with open(training_file, mode='rb') as f:\n",
    "    train = pickle.load(f)\n",
    "with open(validation_file, mode='rb') as f:\n",
    "    valid = pickle.load(f)\n",
    "with open(testing_file, mode='rb') as f:\n",
    "    test = pickle.load(f)\n",
    "    \n",
    "X_train, y_train = train['features'], train['labels']\n",
    "X_valid, y_valid = valid['features'], valid['labels']\n",
    "X_test, y_test = test['features'], test['labels']"
   ]
  },
  {
   "cell_type": "markdown",
   "metadata": {},
   "source": [
    "---\n",
    "\n",
    "## Step 1: Dataset Summary & Exploration\n",
    "\n",
    "The pickled data is a dictionary with 4 key/value pairs:\n",
    "\n",
    "- `'features'` is a 4D array containing raw pixel data of the traffic sign images, (num examples, width, height, channels).\n",
    "- `'labels'` is a 1D array containing the label/class id of the traffic sign. The file `signnames.csv` contains id -> name mappings for each id.\n",
    "- `'sizes'` is a list containing tuples, (width, height) representing the original width and height the image.\n",
    "- `'coords'` is a list containing tuples, (x1, y1, x2, y2) representing coordinates of a bounding box around the sign in the image. **THESE COORDINATES ASSUME THE ORIGINAL IMAGE. THE PICKLED DATA CONTAINS RESIZED VERSIONS (32 by 32) OF THESE IMAGES**\n",
    "\n",
    "Complete the basic data summary below. Use python, numpy and/or pandas methods to calculate the data summary rather than hard coding the results. For example, the [pandas shape method](http://pandas.pydata.org/pandas-docs/stable/generated/pandas.DataFrame.shape.html) might be useful for calculating some of the summary results. "
   ]
  },
  {
   "cell_type": "markdown",
   "metadata": {},
   "source": [
    "### Provide a Basic Summary of the Data Set Using Python, Numpy and/or Pandas"
   ]
  },
  {
   "cell_type": "code",
   "execution_count": 2,
   "metadata": {},
   "outputs": [
    {
     "name": "stdout",
     "output_type": "stream",
     "text": [
      "Number of training examples = 34799\n",
      "Number of validation examples = 4410\n",
      "Number of testing examples = 12630\n",
      "Image data shape = (32, 32, 3)\n",
      "Number of classes = 43\n"
     ]
    }
   ],
   "source": [
    "import numpy as np\n",
    "\n",
    "\n",
    "n_train = X_train.shape[0]\n",
    "n_validation = X_valid.shape[0]\n",
    "n_test = X_test.shape[0]\n",
    "image_shape = X_train[0].shape\n",
    "n_classes = np.unique(y_train).shape[0]\n",
    "\n",
    "print(\"Number of training examples =\", n_train)\n",
    "print(\"Number of validation examples =\",n_validation)\n",
    "print(\"Number of testing examples =\", n_test)\n",
    "print(\"Image data shape =\", image_shape)\n",
    "print(\"Number of classes =\", n_classes)"
   ]
  },
  {
   "cell_type": "markdown",
   "metadata": {},
   "source": [
    "### Include an exploratory visualization of the dataset"
   ]
  },
  {
   "cell_type": "markdown",
   "metadata": {},
   "source": [
    "Visualize the German Traffic Signs Dataset using the pickled file(s). This is open ended, suggestions include: plotting traffic sign images, plotting the count of each sign, etc. \n",
    "\n",
    "The [Matplotlib](http://matplotlib.org/) [examples](http://matplotlib.org/examples/index.html) and [gallery](http://matplotlib.org/gallery.html) pages are a great resource for doing visualizations in Python.\n",
    "\n",
    "**NOTE:** It's recommended you start with something simple first. If you wish to do more, come back to it after you've completed the rest of the sections. It can be interesting to look at the distribution of classes in the training, validation and test set. Is the distribution the same? Are there more examples of some classes than others?"
   ]
  },
  {
   "cell_type": "code",
   "execution_count": 3,
   "metadata": {
    "collapsed": true
   },
   "outputs": [],
   "source": [
    "from pandas.io.parsers import read_csv\n",
    "signNames = read_csv(\"signnames.csv\").values[:, 1]"
   ]
  },
  {
   "cell_type": "code",
   "execution_count": null,
   "metadata": {
    "collapsed": true
   },
   "outputs": [],
   "source": [
    "signCounts = np.bincount(y_train)\n",
    "signClasses = np.unique(y_train)"
   ]
  },
  {
   "cell_type": "code",
   "execution_count": null,
   "metadata": {
    "collapsed": true
   },
   "outputs": [],
   "source": [
    "import matplotlib.pyplot as plt\n",
    "\n",
    "\n",
    "col_per_row = 10\n",
    "\n",
    "for i, counts, name in zip(signClasses, signCounts,signNames):\n",
    "    print('Sign {0}: {1}     [{2} Samples]'.format(i,name,counts))\n",
    "    fig = plt.figure(figsize = (col_per_row, 1))\n",
    "    fig.subplots_adjust(left = 0, right = 1, bottom = 0, top = 1, hspace = 0.01, wspace = 0.01)\n",
    "    sameSigns = np.flatnonzero(y_train == i)\n",
    "    indexes = np.random.choice(sameSigns, col_per_row, replace=False)\n",
    "    for i in range(col_per_row):\n",
    "        plt.subplot(1, col_per_row, i + 1)\n",
    "        plt.imshow(X_train[indexes[i]])\n",
    "        plt.axis('off')\n",
    "    plt.show()\n",
    "    print()\n"
   ]
  },
  {
   "cell_type": "code",
   "execution_count": null,
   "metadata": {
    "collapsed": true
   },
   "outputs": [],
   "source": [
    "fig, ax = plt.subplots()\n",
    "ax.bar( np.arange( n_classes ), signCounts, align='center' )\n",
    "ax.set_xlabel('Traffic Sign')\n",
    "ax.set_ylabel('Samples')\n",
    "ax.set_title('Samples Distribution')\n",
    "ax.grid(True)\n",
    "ax.set_xlim([-1, n_classes])\n",
    "plt.show() "
   ]
  },
  {
   "cell_type": "markdown",
   "metadata": {},
   "source": [
    "###### ----\n",
    "\n",
    "## Step 2: Design and Test a Model Architecture\n",
    "\n",
    "Design and implement a deep learning model that learns to recognize traffic signs. Train and test your model on the [German Traffic Sign Dataset](http://benchmark.ini.rub.de/?section=gtsrb&subsection=dataset).\n",
    "\n",
    "The LeNet-5 implementation shown in the [classroom](https://classroom.udacity.com/nanodegrees/nd013/parts/fbf77062-5703-404e-b60c-95b78b2f3f9e/modules/6df7ae49-c61c-4bb2-a23e-6527e69209ec/lessons/601ae704-1035-4287-8b11-e2c2716217ad/concepts/d4aca031-508f-4e0b-b493-e7b706120f81) at the end of the CNN lesson is a solid starting point. You'll have to change the number of classes and possibly the preprocessing, but aside from that it's plug and play! \n",
    "\n",
    "With the LeNet-5 solution from the lecture, you should expect a validation set accuracy of about 0.89. To meet specifications, the validation set accuracy will need to be at least 0.93. It is possible to get an even higher accuracy, but 0.93 is the minimum for a successful project submission. \n",
    "\n",
    "There are various aspects to consider when thinking about this problem:\n",
    "\n",
    "- Neural network architecture (is the network over or underfitting?)\n",
    "- Play around preprocessing techniques (normalization, rgb to grayscale, etc)\n",
    "- Number of examples per label (some have more than others).\n",
    "- Generate fake data.\n",
    "\n",
    "Here is an example of a [published baseline model on this problem](http://yann.lecun.com/exdb/publis/pdf/sermanet-ijcnn-11.pdf). It's not required to be familiar with the approach used in the paper but, it's good practice to try to read papers like these."
   ]
  },
  {
   "cell_type": "markdown",
   "metadata": {},
   "source": [
    "### Pre-process the Data Set (normalization, grayscale, etc.)"
   ]
  },
  {
   "cell_type": "markdown",
   "metadata": {},
   "source": [
    "Minimally, the image data should be normalized so that the data has mean zero and equal variance. For image data, `(pixel - 128)/ 128` is a quick way to approximately normalize the data and can be used in this project. \n",
    "\n",
    "Other pre-processing steps are optional. You can try different techniques to see if it improves performance. \n",
    "\n",
    "Use the code cell (or multiple code cells, if necessary) to implement the first step of your project."
   ]
  },
  {
   "cell_type": "code",
   "execution_count": null,
   "metadata": {
    "collapsed": true
   },
   "outputs": [],
   "source": [
    "import cv2\n",
    "\n",
    "image = X_train[3000]\n",
    "plt.imshow(image)\n",
    "plt.show()\n",
    "\n",
    "\n",
    "#-----Applying CLAHE to Gray -------------------------------------------\n",
    "clahe = cv2.createCLAHE(clipLimit=4.0, tileGridSize=(8,8))\n",
    "cl = clahe.apply(cv2.cvtColor(image, cv2.COLOR_RGB2GRAY))\n",
    "\n",
    "plt.imshow(cl,cmap='gray')\n",
    "plt.show()\n"
   ]
  },
  {
   "cell_type": "code",
   "execution_count": null,
   "metadata": {
    "collapsed": true
   },
   "outputs": [],
   "source": [
    "image = X_train[15000]\n",
    "plt.imshow(image)\n",
    "plt.show()\n",
    "\n",
    "\n",
    "img_yuv = cv2.cvtColor(image, cv2.COLOR_BGR2YUV)\n",
    "img_yuv[:,:,0] = cv2.equalizeHist(img_yuv[:,:,0])\n",
    "img = cv2.cvtColor(img_yuv, cv2.COLOR_YUV2BGR)\n",
    "plt.imshow(img)\n",
    "plt.show()\n",
    "\n",
    "gray = cv2.cvtColor(img, cv2.COLOR_RGB2GRAY)\n",
    "plt.imshow(gray, cmap='gray')\n",
    "plt.show()\n",
    "\n",
    "gray2 = cv2.cvtColor(gray, cv2.COLOR_GRAY2RGB)\n",
    "print(gray2.shape)\n",
    "plt.imshow(gray2, cmap='gray')\n",
    "plt.show()\n",
    "\n",
    "\n",
    "print(X_train[1000][:,:,0].shape)"
   ]
  },
  {
   "cell_type": "code",
   "execution_count": null,
   "metadata": {
    "collapsed": true
   },
   "outputs": [],
   "source": [
    "img = X_train[15000]\n",
    "plt.imshow(img)\n",
    "plt.show()\n",
    "\n",
    "# Equalize Y\n",
    "img1_yuv = cv2.cvtColor(img, cv2.COLOR_BGR2YUV)\n",
    "img1_yuv[:,:,0] = cv2.equalizeHist(img1_yuv[:,:,0])\n",
    "img = cv2.cvtColor(img1_yuv, cv2.COLOR_YUV2BGR)\n",
    "\n",
    "# Gray\n",
    "img3 = cv2.cvtColor(img, cv2.COLOR_RGB2GRAY)\n",
    "\n",
    "# CLAHE\n",
    "clahe = cv2.createCLAHE(clipLimit=4.0, tileGridSize=(8,8))\n",
    "img4 = clahe.apply(img3)\n",
    "\n",
    "# --> 3 RGB\n",
    "cl2 = cv2.cvtColor(img4, cv2.COLOR_GRAY2RGB)\n",
    "\n",
    "plt.imshow(cl2)\n",
    "plt.show()"
   ]
  },
  {
   "cell_type": "code",
   "execution_count": null,
   "metadata": {
    "collapsed": true
   },
   "outputs": [],
   "source": [
    "# data pre-processing\n",
    "\n",
    "import cv2\n",
    "from tqdm import tqdm\n",
    "\n",
    "'''\n",
    "https://discussions.udacity.com/t/train-valid-test-image-processing/401452/8\n",
    "'''\n",
    "def dataPreprocess(imageSets,title):\n",
    "    output = np.zeros(imageSets.shape,dtype=np.float32)\n",
    "    counts = imageSets.shape[0]\n",
    "\n",
    "    # Progress bar\n",
    "    pbar = tqdm(range(counts), desc=title, unit='Images')\n",
    "\n",
    "    for index in pbar:\n",
    "        image = imageSets[index]        \n",
    "        # Equalize Y\n",
    "        image_yuv = cv2.cvtColor(image, cv2.COLOR_BGR2YUV)\n",
    "        image_yuv[:,:,0] = cv2.equalizeHist(image_yuv[:,:,0])\n",
    "        image = cv2.cvtColor(image_yuv, cv2.COLOR_YUV2BGR)\n",
    "        \n",
    "        # To Grayscale\n",
    "        gray = cv2.cvtColor(image, cv2.COLOR_RGB2GRAY) # 3 channels (RGB) --> 1 (gray)\n",
    "        \n",
    "        # CLAHE\n",
    "        clahe = cv2.createCLAHE(clipLimit=4.0, tileGridSize=(8,8))\n",
    "        gray = clahe.apply(gray)\n",
    "        gray = cv2.cvtColor(gray, cv2.COLOR_GRAY2RGB) # 1 channel (gray) --> 3 channels (gray)\n",
    "        \n",
    "        # Normalize to [-1,1]\n",
    "        output[index] = (gray.astype(np.float32) - 128)/128\n",
    "        \n",
    "    return output\n"
   ]
  },
  {
   "cell_type": "code",
   "execution_count": 5,
   "metadata": {
    "collapsed": true
   },
   "outputs": [],
   "source": [
    "# data pre-processing 1 channel\n",
    "\n",
    "import cv2\n",
    "from tqdm import tqdm\n",
    "\n",
    "'''\n",
    "https://discussions.udacity.com/t/train-valid-test-image-processing/401452/8\n",
    "'''\n",
    "def dataPreprocessYChannel(imageSets,title):\n",
    "    output = np.zeros((imageSets.shape[0],imageSets.shape[1],imageSets.shape[2]),dtype=np.float32)\n",
    "    counts = imageSets.shape[0]\n",
    "\n",
    "    # Progress bar\n",
    "    pbar = tqdm(range(counts), desc=title, unit='Images')\n",
    "\n",
    "    for index in pbar:\n",
    "        image = imageSets[index]        \n",
    "        # Equalize Y\n",
    "        image_yuv = cv2.cvtColor(image, cv2.COLOR_BGR2YUV)\n",
    "\n",
    "        gray = cv2.equalizeHist(image_yuv[:,:,0])\n",
    "        clahe = cv2.createCLAHE(clipLimit=4.0, tileGridSize=(8,8))\n",
    "        gray = clahe.apply(gray)\n",
    "        output[index] = (gray.astype(np.float32))/255\n",
    "        \n",
    "    return output"
   ]
  },
  {
   "cell_type": "code",
   "execution_count": 7,
   "metadata": {
    "collapsed": true
   },
   "outputs": [],
   "source": [
    "from tqdm import tqdm\n",
    "import cv2\n",
    "import numpy as np\n",
    "import random\n",
    "\n",
    "def transformImage(X):\n",
    "    out = np.zeros(X.shape,dtype=np.uint8)\n",
    "    for index, img in enumerate(X):\n",
    "        trans_type = random.randint(0,4)\n",
    "        rtn = transform(img,trans_type)\n",
    "        out[index] = rtn\n",
    "    return out\n",
    "\n",
    "def transform(img, type=0):\n",
    "    if type == 0:\n",
    "        fx = random.uniform(1.0, 1.2)\n",
    "        fy = random.uniform(1.0, 1.2)\n",
    "        return cv2.resize(img, None, fx=fx, fy=fy, interpolation=cv2.INTER_CUBIC)[0:32, 0:32, :]\n",
    "\n",
    "    if type == 3:\n",
    "        return projection_transform(img)\n",
    "    \n",
    "    if type == 2:  # Translation\n",
    "        rY = random.randint(-2, 2)\n",
    "        rX = random.randint(-2, 2)\n",
    "        M = np.float32([[1, 0, rY], [0, 1, rX]])\n",
    "    else:\n",
    "        angle = random.randint(-15, 15)\n",
    "        M = cv2.getRotationMatrix2D((16, 16), angle, 1)\n",
    "\n",
    "    return cv2.warpAffine(img, M, (32, 32))\n",
    "\n",
    "from skimage.transform import ProjectiveTransform\n",
    "from skimage.transform import warp\n",
    "\n",
    "def projection_transform(orgimage):\n",
    "    image_size = orgimage.shape[0]\n",
    "    d = image_size * 0.21 #* intensity\n",
    "\n",
    "    tl_top = random.uniform(-d, d)  # Top left corner, top margin\n",
    "    tl_left = random.uniform(-d, d)  # Top left corner, left margin\n",
    "    bl_bottom = random.uniform(-d, d)  # Bottom left corner, bottom margin\n",
    "    bl_left = random.uniform(-d, d)  # Bottom left corner, left margin\n",
    "    tr_top = random.uniform(-d, d)  # Top right corner, top margin\n",
    "    tr_right = random.uniform(-d, d)  # Top right corner, right margin\n",
    "    br_bottom = random.uniform(-d, d)  # Bottom right corner, bottom margin\n",
    "    br_right = random.uniform(-d, d)  # Bottom right corner, right margin\n",
    "\n",
    "    transform = ProjectiveTransform()\n",
    "    transform.estimate(np.array((\n",
    "            (tl_left, tl_top),\n",
    "            (bl_left, image_size - bl_bottom),\n",
    "            (image_size - br_right, image_size - br_bottom),\n",
    "            (image_size - tr_right, tr_top)\n",
    "        )), np.array((\n",
    "            (0, 0),\n",
    "            (0, image_size),\n",
    "            (image_size, image_size),\n",
    "            (image_size, 0)\n",
    "        )))\n",
    "\n",
    "    output = warp(orgimage, transform, output_shape=(image_size, image_size), order=1, mode='edge')\n",
    "\n",
    "    return output\n",
    "\n",
    "def twistImageSet(x_source, counts=None):\n",
    "\n",
    "    num_produce_images = len(x_source) if counts is None else counts\n",
    "\n",
    "    # output = np.zeros(num_produce_images,x_source.shape[1],x_source.shape[2],x_source[3])\n",
    "\n",
    "    idx = np.random.choice(x_source.shape[0], num_produce_images, replace=False)\n",
    "    output = transformImage(x_source[idx,:,:,:])\n",
    "\n",
    "    return output\n",
    "\n",
    "\n",
    "\n",
    "def flip_extend(X, y):\n",
    "    \"\"\"\n",
    "    Extends existing images dataset by flipping images of some classes. As some images would still belong\n",
    "    to same class after flipping we extend such classes with flipped images. Images of other would toggle\n",
    "    between two classes when flipped, so for those we extend existing datasets as well.\n",
    "\n",
    "    Parameters\n",
    "    ----------\n",
    "    X       : ndarray\n",
    "              Dataset array containing feature examples.\n",
    "    y       : ndarray, optional, defaults to `None`\n",
    "              Dataset labels in index form.\n",
    "\n",
    "    Returns\n",
    "    -------\n",
    "    A tuple of X and y.\n",
    "    \"\"\"\n",
    "    # Classes of signs that, when flipped horizontally, should still be classified as the same class\n",
    "    self_flippable_horizontally = np.array([11, 12, 13, 15, 17, 18, 22, 26, 30, 35])\n",
    "    # Classes of signs that, when flipped vertically, should still be classified as the same class\n",
    "    self_flippable_vertically = np.array([1, 5, 12, 15, 17])\n",
    "    # Classes of signs that, when flipped horizontally and then vertically, should still be classified\n",
    "    # as the same class\n",
    "    self_flippable_both = np.array([32, 40])\n",
    "    # Classes of signs that, when flipped horizontally, would still be meaningful, but should be\n",
    "    # classified as some other class\n",
    "    cross_flippable = np.array([\n",
    "        [19, 20],\n",
    "        [33, 34],\n",
    "        [36, 37],\n",
    "        [38, 39],\n",
    "        [20, 19],\n",
    "        [34, 33],\n",
    "        [37, 36],\n",
    "        [39, 38],\n",
    "    ])\n",
    "    num_classes = 43\n",
    "\n",
    "    X_extended = np.empty([0, X.shape[1], X.shape[2], X.shape[3]], dtype=X.dtype)\n",
    "    y_extended = np.empty([0], dtype=y.dtype)\n",
    "\n",
    "    for c in range(num_classes):\n",
    "        # First copy existing data for this class\n",
    "        X_extended = np.append(X_extended, X[y == c], axis=0)\n",
    "        # If we can flip images of this class horizontally and they would still belong to said class...\n",
    "        if c in self_flippable_horizontally:\n",
    "            # ...Copy their flipped versions into extended array.\n",
    "            X_extended = np.append(X_extended, X[y == c][:, :, ::-1, :], axis=0)\n",
    "        # If we can flip images of this class horizontally and they would belong to other class...\n",
    "        if c in cross_flippable[:, 0]:\n",
    "            # ...Copy flipped images of that other class to the extended array.\n",
    "            flip_class = cross_flippable[cross_flippable[:, 0] == c][0][1]\n",
    "            X_extended = np.append(X_extended, X[y == flip_class][:, :, ::-1, :], axis=0)\n",
    "        # Fill labels for added images set to current class.\n",
    "        y_extended = np.append(y_extended, np.full((X_extended.shape[0] - y_extended.shape[0]), c, dtype=int))\n",
    "\n",
    "        # If we can flip images of this class vertically and they would still belong to said class...\n",
    "        if c in self_flippable_vertically:\n",
    "            # ...Copy their flipped versions into extended array.\n",
    "            X_extended = np.append(X_extended, X_extended[y_extended == c][:, ::-1, :, :], axis=0)\n",
    "        # Fill labels for added images set to current class.\n",
    "        y_extended = np.append(y_extended, np.full((X_extended.shape[0] - y_extended.shape[0]), c, dtype=int))\n",
    "\n",
    "        # If we can flip images of this class horizontally AND vertically and they would still belong to same class...\n",
    "        if c in self_flippable_both:\n",
    "            # ...Copy their flipped versions into extended array.\n",
    "            X_extended = np.append(X_extended, X_extended[y_extended == c][:, ::-1, ::-1, :], axis=0)\n",
    "        # Fill labels for added images set to current class.\n",
    "        y_extended = np.append(y_extended, np.full((X_extended.shape[0] - y_extended.shape[0]), c, dtype=int))\n",
    "\n",
    "    return (X_extended, y_extended)\n",
    "\n",
    "\n",
    "def extend_balancing_classes(X, y, aug_intensity=0.5, counts=None):\n",
    "\n",
    "    num_classes = 43\n",
    "\n",
    "    _, class_counts = np.unique(y, return_counts=True)\n",
    "    max_c = max(class_counts)\n",
    "    total = max_c * num_classes if counts is None else np.sum(counts)\n",
    "\n",
    "    X_extended = np.empty([0, X.shape[1], X.shape[2], X.shape[3]], dtype=np.uint8)\n",
    "    y_extended = np.empty([0], dtype=y.dtype)\n",
    "    # print(\"Extending dataset using augmented data (intensity = {}):\".format(aug_intensity))\n",
    "\n",
    "\n",
    "\n",
    "    for c, c_count in zip(range(num_classes), class_counts):\n",
    "        # How many examples should there be eventually for this class:\n",
    "        max_c = max_c if counts is None else counts[c]\n",
    "\n",
    "        # First copy existing data for this class\n",
    "        X_source = X[y == c] # (X[y == c] / 255.).astype(np.float32)\n",
    "        y_source = y[y == c]\n",
    "        X_extended = np.append(X_extended, X_source, axis=0)\n",
    "\n",
    "        loops = (max_c // c_count) - 1\n",
    "\n",
    "        # Progress bar\n",
    "        pbar = tqdm(range(loops), desc='Sign {} ({}): Augmentation '.format(c,c_count), unit='Images')\n",
    "\n",
    "        for i in pbar:\n",
    "        #for i in range(loops):\n",
    "            output = twistImageSet(X_source)\n",
    "            X_extended = np.append(X_extended, output, axis=0)\n",
    "\n",
    "        output = twistImageSet(X_source,max_c % c_count)\n",
    "        X_extended = np.append(X_extended, output, axis=0)\n",
    "\n",
    "        # Fill labels for added images set to current class.\n",
    "        added = X_extended.shape[0] - y_extended.shape[0]\n",
    "        y_extended = np.append(y_extended, np.full(added, c, dtype=int))\n",
    "\n",
    "    output_x = X_extended # (X_extended * 255.).astype(np.uint8)\n",
    "    output_y = y_extended\n",
    "\n",
    "    print(output_y.shape)\n",
    "\n",
    "    return (output_x, output_y)"
   ]
  },
  {
   "cell_type": "code",
   "execution_count": 8,
   "metadata": {
    "collapsed": true
   },
   "outputs": [],
   "source": [
    "import pickle\n",
    "import numpy as np\n",
    "\n",
    "train_balanced_file = 'data/train_balanced.p'\n",
    "\n",
    "# data augmentation\n",
    "'''\n",
    "https://navoshta.com/traffic-signs-classification/\n",
    "\n",
    "'''\n",
    "def dataAugmentation(X,y):\n",
    "    _, class_counts = np.unique(y, return_counts = True)\n",
    "    \n",
    "    print('Before:\\n')\n",
    "    print(class_counts)\n",
    "    \n",
    "    X, y = flip_extend(X, y)\n",
    "    print(\"Number of training examples after horizontal flipping =\", X.shape[0])\n",
    "    print()\n",
    "    \n",
    "    print('After flip:\\n')\n",
    "    _, class_counts = np.unique(y, return_counts = True)\n",
    "    print(class_counts)\n",
    "    print()\n",
    "    \n",
    "    X, y = extend_balancing_classes(X, y, aug_intensity = 0.75, counts = np.full(43, 8000, dtype = int))\n",
    "    print(\"Number of training examples after augmenting and balancing training data =\", X.shape[0])\n",
    "    print()\n",
    "    \n",
    "    print('Finished:\\n')\n",
    "    _, class_counts = np.unique(y, return_counts = True)\n",
    "    print(class_counts)\n",
    "    print()\n",
    "    \n",
    "    pickle.dump({\n",
    "        \"features\" : X,\n",
    "        \"labels\" : y\n",
    "    }, open(train_balanced_file, \"wb\" ) )\n",
    "    print(\"Balanced dataset saved in\", train_balanced_file)\n",
    "    \n",
    "    return (X,y)\n"
   ]
  },
  {
   "cell_type": "code",
   "execution_count": 9,
   "metadata": {},
   "outputs": [
    {
     "name": "stdout",
     "output_type": "stream",
     "text": [
      "Before:\n",
      "\n",
      "[ 180 1980 2010 1260 1770 1650  360 1290 1260 1320 1800 1170 1890 1920  690\n",
      "  540  360  990 1080  180  300  270  330  450  240 1350  540  210  480  240\n",
      "  390  690  210  599  360 1080  330  180 1860  270  300  210  210]\n"
     ]
    },
    {
     "name": "stderr",
     "output_type": "stream",
     "text": [
      "\r",
      "Sign 0 (180): Augmentation :   0%|          | 0/43 [00:00<?, ?Images/s]"
     ]
    },
    {
     "name": "stdout",
     "output_type": "stream",
     "text": [
      "Number of training examples after horizontal flipping = 59788\n",
      "\n",
      "After flip:\n",
      "\n",
      "[ 180 3960 2010 1260 1770 3300  360 1290 1260 1320 1800 2340 7560 3840  690\n",
      " 2160  360 3960 2160  480  480  270  660  450  240 1350 1080  210  480  240\n",
      "  780  690  420  959  959 2160  510  510 2130 2130  600  210  210]\n",
      "\n"
     ]
    },
    {
     "name": "stderr",
     "output_type": "stream",
     "text": [
      "Sign 0 (180): Augmentation : 100%|██████████| 43/43 [00:02<00:00, 17.04Images/s]\n",
      "Sign 1 (3960): Augmentation : 100%|██████████| 1/1 [00:01<00:00,  1.02s/Images]\n",
      "Sign 2 (2010): Augmentation : 100%|██████████| 2/2 [00:01<00:00,  1.89Images/s]\n",
      "Sign 3 (1260): Augmentation : 100%|██████████| 5/5 [00:01<00:00,  2.60Images/s]\n",
      "Sign 4 (1770): Augmentation : 100%|██████████| 3/3 [00:01<00:00,  1.91Images/s]\n",
      "Sign 5 (3300): Augmentation : 100%|██████████| 1/1 [00:00<00:00,  1.07Images/s]\n",
      "Sign 6 (360): Augmentation : 100%|██████████| 21/21 [00:04<00:00,  4.54Images/s]\n",
      "Sign 7 (1290): Augmentation : 100%|██████████| 5/5 [00:02<00:00,  2.17Images/s]\n",
      "Sign 8 (1260): Augmentation : 100%|██████████| 5/5 [00:02<00:00,  2.11Images/s]\n",
      "Sign 9 (1320): Augmentation : 100%|██████████| 5/5 [00:02<00:00,  1.99Images/s]\n",
      "Sign 10 (1800): Augmentation : 100%|██████████| 3/3 [00:01<00:00,  1.57Images/s]\n",
      "Sign 11 (2340): Augmentation : 100%|██████████| 2/2 [00:01<00:00,  1.30Images/s]\n",
      "Sign 12 (7560): Augmentation : 0Images [00:00, ?Images/s]\n",
      "Sign 13 (3840): Augmentation : 100%|██████████| 1/1 [00:01<00:00,  1.18s/Images]\n",
      "Sign 14 (690): Augmentation : 100%|██████████| 10/10 [00:04<00:00,  2.39Images/s]\n",
      "Sign 15 (2160): Augmentation : 100%|██████████| 2/2 [00:01<00:00,  1.26Images/s]\n",
      "Sign 16 (360): Augmentation : 100%|██████████| 21/21 [00:07<00:00,  2.85Images/s]\n",
      "Sign 17 (3960): Augmentation : 100%|██████████| 1/1 [00:01<00:00,  1.24s/Images]\n",
      "Sign 18 (2160): Augmentation : 100%|██████████| 2/2 [00:01<00:00,  1.25Images/s]\n",
      "Sign 19 (480): Augmentation : 100%|██████████| 15/15 [00:06<00:00,  2.42Images/s]\n",
      "Sign 20 (480): Augmentation : 100%|██████████| 15/15 [00:06<00:00,  2.32Images/s]\n",
      "Sign 21 (270): Augmentation : 100%|██████████| 28/28 [00:10<00:00,  2.55Images/s]\n",
      "Sign 22 (660): Augmentation : 100%|██████████| 11/11 [00:05<00:00,  2.05Images/s]\n",
      "Sign 23 (450): Augmentation : 100%|██████████| 16/16 [00:07<00:00,  2.16Images/s]\n",
      "Sign 24 (240): Augmentation : 100%|██████████| 32/32 [00:13<00:00,  2.42Images/s]\n",
      "Sign 25 (1350): Augmentation : 100%|██████████| 4/4 [00:02<00:00,  1.44Images/s]\n",
      "Sign 26 (1080): Augmentation : 100%|██████████| 6/6 [00:03<00:00,  1.57Images/s]\n",
      "Sign 27 (210): Augmentation : 100%|██████████| 37/37 [00:16<00:00,  2.22Images/s]\n",
      "Sign 28 (480): Augmentation : 100%|██████████| 15/15 [00:07<00:00,  1.99Images/s]\n",
      "Sign 29 (240): Augmentation : 100%|██████████| 32/32 [00:14<00:00,  2.15Images/s]\n",
      "Sign 30 (780): Augmentation : 100%|██████████| 9/9 [00:05<00:00,  1.65Images/s]\n",
      "Sign 31 (690): Augmentation : 100%|██████████| 10/10 [00:05<00:00,  1.68Images/s]\n",
      "Sign 32 (420): Augmentation : 100%|██████████| 18/18 [00:09<00:00,  1.85Images/s]\n",
      "Sign 33 (959): Augmentation : 100%|██████████| 7/7 [00:04<00:00,  1.46Images/s]\n",
      "Sign 34 (959): Augmentation : 100%|██████████| 7/7 [00:04<00:00,  1.45Images/s]\n",
      "Sign 35 (2160): Augmentation : 100%|██████████| 2/2 [00:02<00:00,  1.01s/Images]\n",
      "Sign 36 (510): Augmentation : 100%|██████████| 14/14 [00:08<00:00,  1.68Images/s]\n",
      "Sign 37 (510): Augmentation : 100%|██████████| 14/14 [00:08<00:00,  1.62Images/s]\n",
      "Sign 38 (2130): Augmentation : 100%|██████████| 2/2 [00:02<00:00,  1.05s/Images]\n",
      "Sign 39 (2130): Augmentation : 100%|██████████| 2/2 [00:02<00:00,  1.00s/Images]\n",
      "Sign 40 (600): Augmentation : 100%|██████████| 12/12 [00:08<00:00,  1.49Images/s]\n",
      "Sign 41 (210): Augmentation : 100%|██████████| 37/37 [00:21<00:00,  1.69Images/s]\n",
      "Sign 42 (210): Augmentation : 100%|██████████| 37/37 [00:22<00:00,  1.67Images/s]\n"
     ]
    },
    {
     "name": "stdout",
     "output_type": "stream",
     "text": [
      "(344000,)\n",
      "Number of training examples after augmenting and balancing training data = 344000\n",
      "\n",
      "Finished:\n",
      "\n",
      "[8000 8000 8000 8000 8000 8000 8000 8000 8000 8000 8000 8000 8000 8000 8000\n",
      " 8000 8000 8000 8000 8000 8000 8000 8000 8000 8000 8000 8000 8000 8000 8000\n",
      " 8000 8000 8000 8000 8000 8000 8000 8000 8000 8000 8000 8000 8000]\n",
      "\n",
      "Balanced dataset saved in data/train_balanced.p\n"
     ]
    }
   ],
   "source": [
    "X_train, y_train = dataAugmentation(X_train, y_train)"
   ]
  },
  {
   "cell_type": "code",
   "execution_count": null,
   "metadata": {
    "collapsed": true
   },
   "outputs": [],
   "source": [
    "import pickle\n",
    "\n",
    "train_balanced_file = 'data/train_balanced.p'\n",
    "\n",
    "with open(train_balanced_file, mode='rb') as f:\n",
    "    train_balanced = pickle.load(f)\n",
    "\n",
    "X_train, y_train = train_balanced['features'], train_balanced['labels']"
   ]
  },
  {
   "cell_type": "code",
   "execution_count": null,
   "metadata": {
    "collapsed": true
   },
   "outputs": [],
   "source": [
    "import numpy as np\n",
    "X_train = dataPreprocess(X_train, \"Training   Data\")\n",
    "X_valid = dataPreprocess(X_valid, \"Validation Data\")\n",
    "X_test = dataPreprocess(X_test,   \"Test       Data\")"
   ]
  },
  {
   "cell_type": "code",
   "execution_count": 10,
   "metadata": {},
   "outputs": [
    {
     "name": "stderr",
     "output_type": "stream",
     "text": [
      "Training   Data: 100%|██████████| 344000/344000 [01:10<00:00, 4855.23Images/s]\n",
      "Validation Data: 100%|██████████| 4410/4410 [00:00<00:00, 4930.04Images/s]\n",
      "Test       Data: 100%|██████████| 12630/12630 [00:02<00:00, 4878.42Images/s]\n"
     ]
    }
   ],
   "source": [
    "import numpy as np\n",
    "\n",
    "X_train = dataPreprocessYChannel(X_train, \"Training   Data\")\n",
    "X_valid = dataPreprocessYChannel(X_valid, \"Validation Data\")\n",
    "X_test = dataPreprocessYChannel(X_test,   \"Test       Data\")"
   ]
  },
  {
   "cell_type": "code",
   "execution_count": 11,
   "metadata": {},
   "outputs": [
    {
     "name": "stdout",
     "output_type": "stream",
     "text": [
      "(344000, 32, 32)\n",
      "(4410, 32, 32)\n",
      "(12630, 32, 32)\n",
      "(344000, 32, 32, 1)\n",
      "(4410, 32, 32, 1)\n",
      "(12630, 32, 32, 1)\n"
     ]
    }
   ],
   "source": [
    "import numpy as np\n",
    "\n",
    "print(X_train.shape)\n",
    "print(X_valid.shape)\n",
    "print(X_test.shape)\n",
    "\n",
    "X_train = X_train.reshape(X_train.shape[0],X_train.shape[1],X_train.shape[2],-1)\n",
    "X_valid = X_valid.reshape(X_valid.shape[0],X_valid.shape[1],X_valid.shape[2],-1)\n",
    "X_test = X_test.reshape(X_test.shape[0],X_test.shape[1],X_test.shape[2],-1)\n",
    "\n",
    "print(X_train.shape)\n",
    "print(X_valid.shape)\n",
    "print(X_test.shape)"
   ]
  },
  {
   "cell_type": "markdown",
   "metadata": {},
   "source": [
    "### Model Architecture"
   ]
  },
  {
   "cell_type": "code",
   "execution_count": null,
   "metadata": {
    "collapsed": true
   },
   "outputs": [],
   "source": [
    "from tensorflow.contrib.layers import flatten\n",
    "\n",
    "def LeNet5(x, mu=0, sigma=0.1):\n",
    "\n",
    "    # Layer 1: Convolutional. Input = 32x32x3. Output = 28x28x6.\n",
    "    conv1_w = tf.Variable(tf.truncated_normal(shape=(5, 5, 3, 6), mean=mu,stddev=sigma),name='conv1_w')\n",
    "    conv1_b = tf.Variable(tf.zeros(6))\n",
    "    conv1 = tf.nn.conv2d(x, conv1_w, strides=[1, 1, 1, 1], padding='VALID') + conv1_b\n",
    "\n",
    "    # Activation.\n",
    "    conv1 = tf.nn.relu(conv1)\n",
    "\n",
    "    # Pooling. Input = 28x28x6. Output = 14x14x6.\n",
    "    conv1 = tf.nn.max_pool(conv1, ksize=[1, 2, 2, 1], strides=[1, 2, 2, 1], padding='VALID')\n",
    "    \n",
    "    # Layer 2: Convolutional. Output = 10x10x16.\n",
    "    conv2_w = tf.Variable(tf.truncated_normal(shape=[5, 5, 6, 16], mean=mu, stddev=sigma))\n",
    "    conv2_b = tf.Variable(tf.zeros(16))\n",
    "    conv2 = tf.nn.conv2d(conv1, conv2_w, strides=[1, 1, 1, 1], padding='VALID') + conv2_b\n",
    "\n",
    "    # Activation.\n",
    "    conv2 = tf.nn.relu(conv2)\n",
    "\n",
    "    # Pooling. Input = 10x10x16. Output = 5x5x16.\n",
    "    conv2 = tf.nn.max_pool(conv2, ksize=[1, 2, 2, 1], strides=[1, 2, 2, 1], padding='VALID')\n",
    "    \n",
    "    # Flatten. Input = 5x5x16. Output = 400.\n",
    "    fc0 = flatten(conv2)\n",
    "\n",
    "    # Layer 3: Fully Connected. Input = 400. Output = 120.\n",
    "    fc1_w = tf.Variable(tf.truncated_normal(shape=(400, 120), mean=mu, stddev=sigma))\n",
    "    fc1_b = tf.Variable(tf.zeros(120))\n",
    "    fc1 = tf.matmul(fc0, fc1_w) + fc1_b\n",
    "\n",
    "    # Activation.\n",
    "    fc1 = tf.nn.relu(fc1)\n",
    "\n",
    "    # Layer 4: Fully Connected. Input = 120. Output = 84.\n",
    "    fc2_w = tf.Variable(tf.truncated_normal(shape=(120, 84), mean=mu, stddev=sigma))\n",
    "    fc2_b = tf.Variable(tf.zeros(84))\n",
    "    fc2 = tf.matmul(fc1, fc2_w) + fc2_b\n",
    "\n",
    "    # Activation.\n",
    "    fc2 = tf.nn.relu(fc2)\n",
    "\n",
    "    # Layer 5: Fully Connected. Input = 84. Output = 43.\n",
    "    fc3_w = tf.Variable(tf.truncated_normal(shape=(84, n_classes), mean=mu, stddev=sigma))\n",
    "    fc3_b = tf.zeros(n_classes)\n",
    "    logits = tf.add(tf.matmul(fc2, fc3_w),fc3_b, name='logits')\n",
    "\n",
    "    return logits"
   ]
  },
  {
   "cell_type": "code",
   "execution_count": null,
   "metadata": {
    "collapsed": true
   },
   "outputs": [],
   "source": [
    "from tensorflow.contrib.layers import flatten\n",
    "\n",
    "# 1 channels\n",
    "\n",
    "def SermanNet(x, mu=0, sigma=0.1):\n",
    "    \n",
    "    # Layer 1: Convolutional. Input = 32x32x1. Output = 32x32x32.\n",
    "    conv1_w = tf.Variable(tf.truncated_normal(shape=(5, 5, 1, 32), mean=mu, stddev=sigma), name='conv1_w')\n",
    "    conv1_b = tf.Variable(tf.zeros(32))\n",
    "    conv1 = tf.nn.conv2d(x, conv1_w, strides=[1, 1, 1, 1], padding='SAME') + conv1_b\n",
    "\n",
    "    # ReLu Activation.\n",
    "    conv1 = tf.nn.relu(conv1)\n",
    "\n",
    "    # Pooling. Input = 32x32x32. Output = 16x16x32.\n",
    "    conv1_pool = tf.nn.max_pool(conv1, ksize=[1, 2, 2, 1], strides=[1, 2, 2, 1], padding='VALID')\n",
    "\n",
    "    # Dropout\n",
    "    conv1 = tf.nn.dropout(conv1_pool,keep_prob=keep1)\n",
    "\n",
    "    # Layer 2: Convolutional. Input = 16x16x32. Output = 16x16x64.\n",
    "    conv2_w = tf.Variable(tf.truncated_normal(shape=[5, 5, 32, 64], mean=mu, stddev=sigma))\n",
    "    conv2_b = tf.Variable(tf.zeros(64))\n",
    "    conv2 = tf.nn.conv2d(conv1, conv2_w, strides=[1, 1, 1, 1], padding='SAME') + conv2_b\n",
    "\n",
    "    # ReLu Activation.\n",
    "    conv2 = tf.nn.relu(conv2)\n",
    "\n",
    "    # Pooling. Input = 16x16x64. Output = 8x8x64.\n",
    "    conv2_pool = tf.nn.max_pool(conv2, ksize=[1, 2, 2, 1], strides=[1, 2, 2, 1], padding='VALID')\n",
    "\n",
    "    # Dropout\n",
    "    conv2 = tf.nn.dropout(conv2_pool, keep_prob=keep2)\n",
    "\n",
    "    # Layer 3: Convolutional. Input = 8x8x64. Output = 8x8x128.\n",
    "    conv3_w = tf.Variable(tf.truncated_normal(shape=[5, 5, 64, 128], mean=mu, stddev=sigma))\n",
    "    conv3_b = tf.Variable(tf.zeros(128))\n",
    "    conv3 = tf.nn.conv2d(conv2, conv3_w, strides=[1, 1, 1, 1], padding='SAME') + conv3_b\n",
    "\n",
    "    # ReLu Activation.\n",
    "    conv3 = tf.nn.relu(conv3)\n",
    "\n",
    "    # Pooling. Input = 8x8x128. Output = 4x4x128.\n",
    "    conv3_pool = tf.nn.max_pool(conv3, ksize=[1, 2, 2, 1], strides=[1, 2, 2, 1], padding='VALID')\n",
    "\n",
    "    # Dropout\n",
    "    conv3 = tf.nn.dropout(conv3_pool, keep_prob=keep3)\n",
    "\n",
    "    # concat. Input = 4x4x32 + 4x4x64 + 4x4x128. Output = 4x4x224.\n",
    "    # 1. Pooling. conv1_pool = 16x16x32. pool1 = 4x4x32.\n",
    "    pool1 = tf.nn.max_pool(conv1_pool, ksize=[1, 4, 4, 1], strides=[1, 4, 4, 1], padding='VALID')\n",
    "    # 2. Pooling. conv2_pool = 8x8x64. pool2 = 4x4x64.\n",
    "    pool2 = tf.nn.max_pool(conv2_pool, ksize=[1, 2, 2, 1], strides=[1, 2, 2, 1], padding='VALID')\n",
    "    # 3. conv3_pool = 4x4x128\n",
    "    pool3 = conv3_pool\n",
    "    # 4. ---> 4x4x224\n",
    "    flt = tf.concat(3,[pool1, pool2,pool3])\n",
    "\n",
    "    # Flatten. Input = 4x4x224. Output = 3584\n",
    "    fc0 = flatten(flt)\n",
    "\n",
    "    # Layer 4: Fully Connected. Input = 3584. Output = 1024.\n",
    "    fc1_w = tf.Variable(tf.truncated_normal(shape=(3584, 1024), mean=mu, stddev=sigma))\n",
    "    fc1_b = tf.Variable(tf.zeros(1024))\n",
    "    fc1 = tf.matmul(fc0, fc1_w) + fc1_b\n",
    "\n",
    "    # Activation.\n",
    "    fc1 = tf.nn.relu(fc1)\n",
    "\n",
    "    # Dropout\n",
    "    fc1 = tf.nn.dropout(fc1, keep_prob=keep4)\n",
    "\n",
    "    # Layer 5: Fully Connected. Input = 1024. Output = 43 (softmax).\n",
    "    fc2_w = tf.Variable(tf.truncated_normal(shape=(1024, 43), mean=mu, stddev=sigma))\n",
    "    fc2_b = tf.Variable(tf.zeros(43))\n",
    "#     fc2 = tf.add(tf.matmul(fc1, fc2_w), fc2_b)\n",
    "#     logits = tf.nn.softmax(fc2,name='logits')\n",
    "    logits = tf.add(tf.matmul(fc1, fc2_w), fc2_b,name='logits')\n",
    "\n",
    "    return logits"
   ]
  },
  {
   "cell_type": "code",
   "execution_count": 12,
   "metadata": {
    "collapsed": true
   },
   "outputs": [],
   "source": [
    "from tensorflow.contrib.layers import flatten\n",
    "\n",
    "# Y channels -- 2 conv layers + 2 FC layers\n",
    "\n",
    "def SermanNet2(x, mu=0, sigma=0.1):\n",
    "    \n",
    "    # Layer 1: Convolutional. Input = 32x32x1. Output = 32x32x16.\n",
    "    conv1_w = tf.Variable(tf.truncated_normal(shape=(5, 5, 1, 16), mean=mu, stddev=sigma), name='conv1_w')\n",
    "    conv1_b = tf.Variable(tf.zeros(16))\n",
    "    conv1 = tf.nn.conv2d(x, conv1_w, strides=[1, 1, 1, 1], padding='SAME') + conv1_b\n",
    "\n",
    "    # ReLu Activation.\n",
    "    conv1 = tf.nn.relu(conv1)\n",
    "\n",
    "    # Pooling. Input = 32x32x16. Output = 16x16x16.\n",
    "    conv1_pool = tf.nn.max_pool(conv1, ksize=[1, 2, 2, 1], strides=[1, 2, 2, 1], padding='VALID')\n",
    "\n",
    "    # Dropout\n",
    "    conv1 = tf.nn.dropout(conv1_pool,keep_prob=keep1)\n",
    "\n",
    "    # Layer 2: Convolutional. Input = 16x16x16. Output = 16x16x32.\n",
    "    conv2_w = tf.Variable(tf.truncated_normal(shape=[5, 5, 16, 32], mean=mu, stddev=sigma))\n",
    "    conv2_b = tf.Variable(tf.zeros(32))\n",
    "    conv2 = tf.nn.conv2d(conv1, conv2_w, strides=[1, 1, 1, 1], padding='SAME') + conv2_b\n",
    "\n",
    "    # ReLu Activation.\n",
    "    conv2 = tf.nn.relu(conv2)\n",
    "\n",
    "    # Pooling. Input = 16x16x32. Output = 8x8x32.\n",
    "    conv2_pool = tf.nn.max_pool(conv2, ksize=[1, 2, 2, 1], strides=[1, 2, 2, 1], padding='VALID')\n",
    "\n",
    "    # Dropout\n",
    "    conv2 = tf.nn.dropout(conv2_pool, keep_prob=keep2)\n",
    "\n",
    "    # concat. Input = 4x4x16 + 4x4x32. Output = 4x4x48.\n",
    "    # 1. Pooling. conv1_pool = 16x16x16. pool1 = 4x4x16.\n",
    "    pool1 = tf.nn.max_pool(conv1_pool, ksize=[1, 4, 4, 1], strides=[1, 4, 4, 1], padding='VALID')\n",
    "    # 2. Pooling. conv2_pool = 8x8x32. pool2 = 4x4x32.\n",
    "    pool2 = tf.nn.max_pool(conv2_pool, ksize=[1, 2, 2, 1], strides=[1, 2, 2, 1], padding='VALID')\n",
    "    # 3. ---> 4x4x48\n",
    "    flt = tf.concat(3,[pool1, pool2])\n",
    "\n",
    "    # Flatten. Input = 4x4x48. Output = 768\n",
    "    fc0 = flatten(flt)\n",
    "\n",
    "    # Layer 3: Fully Connected. Input = 768. Output = 120.\n",
    "    fc1_w = tf.Variable(tf.truncated_normal(shape=(768, 120), mean=mu, stddev=sigma))\n",
    "    fc1_b = tf.Variable(tf.zeros(120))\n",
    "    fc1 = tf.matmul(fc0, fc1_w) + fc1_b\n",
    "\n",
    "    # Activation.\n",
    "    fc1 = tf.nn.relu(fc1)\n",
    "\n",
    "    # Dropout\n",
    "    fc1 = tf.nn.dropout(fc1, keep_prob=keep4)\n",
    "\n",
    "    # Layer 4: Fully Connected. Input = 120. Output = 43.\n",
    "    fc2_w = tf.Variable(tf.truncated_normal(shape=(120, 43), mean=mu, stddev=sigma))\n",
    "    fc2_b = tf.Variable(tf.zeros(43))\n",
    "    logits = tf.add(tf.matmul(fc1, fc2_w), fc2_b,name='logits')\n",
    "\n",
    "    return logits"
   ]
  },
  {
   "cell_type": "code",
   "execution_count": null,
   "metadata": {
    "collapsed": true
   },
   "outputs": [],
   "source": [
    "from tensorflow.contrib.layers import flatten\n",
    "\n",
    "def LeNet5Dropout(x, mu=0, sigma=0.1):\n",
    "\n",
    "    # TODO: Layer 1: Convolutional. Input = 32x32x3. Output = 28x28x16.\n",
    "    conv1_w = tf.Variable(tf.truncated_normal(shape=(5, 5, 3, 16), mean=mu,stddev=sigma),name='conv1_w')\n",
    "    conv1_b = tf.Variable(tf.zeros(16))\n",
    "    conv1 = tf.nn.conv2d(x, conv1_w, strides=[1, 1, 1, 1], padding='VALID') + conv1_b\n",
    "\n",
    "    # TODO: Activation.\n",
    "    conv1 = tf.nn.relu(conv1)\n",
    "\n",
    "    # TODO: Pooling. Input = 28x28x16. Output = 14x14x16.\n",
    "    conv1 = tf.nn.max_pool(conv1, ksize=[1, 2, 2, 1], strides=[1, 2, 2, 1], padding='VALID')\n",
    "    \n",
    "    # Dropout\n",
    "    conv1 = tf.nn.dropout(conv1,keep_prob=keep1)\n",
    "\n",
    "    # TODO: Layer 2: Convolutional. Output = 10x10x64.\n",
    "    conv2_w = tf.Variable(tf.truncated_normal(shape=[5, 5, 16, 64], mean=mu, stddev=sigma))\n",
    "    conv2_b = tf.Variable(tf.zeros(64))\n",
    "    conv2 = tf.nn.conv2d(conv1, conv2_w, strides=[1, 1, 1, 1], padding='VALID') + conv2_b\n",
    "\n",
    "    # TODO: Activation.\n",
    "    conv2 = tf.nn.relu(conv2)\n",
    "\n",
    "    # TODO: Pooling. Input = 10x10x64. Output = 5x5x64.\n",
    "    conv2 = tf.nn.max_pool(conv2, ksize=[1, 2, 2, 1], strides=[1, 2, 2, 1], padding='VALID')\n",
    "    \n",
    "    # Dropout\n",
    "    conv2 = tf.nn.dropout(conv2,keep_prob=keep2)\n",
    "\n",
    "    # TODO: Flatten. Input = 5x5x64. Output = 1600.\n",
    "    fc0 = flatten(conv2)\n",
    "\n",
    "    # TODO: Layer 3: Fully Connected. Input = 1600. Output = 120.\n",
    "    fc1_w = tf.Variable(tf.truncated_normal(shape=(1600, 120), mean=mu, stddev=sigma))\n",
    "    fc1_b = tf.Variable(tf.zeros(120))\n",
    "    fc1 = tf.matmul(fc0, fc1_w) + fc1_b\n",
    "\n",
    "    # TODO: Activation.\n",
    "    fc1 = tf.nn.relu(fc1)\n",
    "\n",
    "    # Dropout\n",
    "    fc1 = tf.nn.dropout(fc1,keep_prob=keep3)\n",
    "\n",
    "    # TODO: Layer 4: Fully Connected. Input = 120. Output = 84.\n",
    "    fc2_w = tf.Variable(tf.truncated_normal(shape=(120, 84), mean=mu, stddev=sigma))\n",
    "    fc2_b = tf.Variable(tf.zeros(84))\n",
    "    fc2 = tf.matmul(fc1, fc2_w) + fc2_b\n",
    "\n",
    "    # TODO: Activation.\n",
    "    fc2 = tf.nn.relu(fc2)\n",
    "\n",
    "    # Dropout\n",
    "    fc2 = tf.nn.dropout(fc2, keep_prob=keep4)\n",
    "\n",
    "    # TODO: Layer 5: Fully Connected. Input = 84. Output = 43.\n",
    "    fc3_w = tf.Variable(tf.truncated_normal(shape=(84, n_classes), mean=mu, stddev=sigma))\n",
    "    fc3_b = tf.zeros(n_classes)\n",
    "    logits = tf.add(tf.matmul(fc2, fc3_w),fc3_b, name='logits')\n",
    "\n",
    "    return logits"
   ]
  },
  {
   "cell_type": "markdown",
   "metadata": {},
   "source": [
    "### Train, Validate and Test the Model"
   ]
  },
  {
   "cell_type": "markdown",
   "metadata": {},
   "source": [
    "A validation set can be used to assess how well the model is performing. A low accuracy on the training and validation\n",
    "sets imply underfitting. A high accuracy on the training set but low accuracy on the validation set implies overfitting."
   ]
  },
  {
   "cell_type": "code",
   "execution_count": 20,
   "metadata": {
    "collapsed": true
   },
   "outputs": [],
   "source": [
    "import tensorflow as tf\n",
    "\n",
    "EPOCHS = 50\n",
    "BATCH_SIZE = 128\n",
    "rate = 0.0001\n",
    "\n",
    "KEEPRATE1 = 0.9\n",
    "KEEPRATE2 = 0.8\n",
    "KEEPRATE3 = 0.7\n",
    "KEEPRATE4 = 0.5\n",
    "\n",
    "bUseDropout = True\n",
    "\n",
    "modelPath = 'models/trafficSign'"
   ]
  },
  {
   "cell_type": "code",
   "execution_count": null,
   "metadata": {
    "collapsed": true
   },
   "outputs": [],
   "source": [
    "n_classes = 43\n",
    "\n",
    "x = tf.placeholder(tf.float32, (None, 32, 32, 3), name='x')\n",
    "y = tf.placeholder(tf.int32,(None),name='y')\n",
    "\n",
    "keep1 = tf.placeholder(tf.float32,name='keep1')\n",
    "keep2 = tf.placeholder(tf.float32,name='keep2')\n",
    "keep3 = tf.placeholder(tf.float32,name='keep3')\n",
    "keep4 = tf.placeholder(tf.float32,name='keep4')\n",
    "\n",
    "one_hot_y = tf.one_hot(y,n_classes)"
   ]
  },
  {
   "cell_type": "code",
   "execution_count": 14,
   "metadata": {
    "collapsed": true
   },
   "outputs": [],
   "source": [
    "# 1 channel\n",
    "n_classes = 43\n",
    "\n",
    "x = tf.placeholder(tf.float32, (None, 32, 32, 1), name='x')\n",
    "y = tf.placeholder(tf.int32,(None),name='y')\n",
    "\n",
    "keep1 = tf.placeholder(tf.float32,name='keep1')\n",
    "keep2 = tf.placeholder(tf.float32,name='keep2')\n",
    "keep3 = tf.placeholder(tf.float32,name='keep3')\n",
    "keep4 = tf.placeholder(tf.float32,name='keep4')\n",
    "\n",
    "one_hot_y = tf.one_hot(y,n_classes)"
   ]
  },
  {
   "cell_type": "code",
   "execution_count": 15,
   "metadata": {
    "collapsed": true
   },
   "outputs": [],
   "source": [
    "if bUseDropout:\n",
    "    #logits = LeNet5Dropout(x)\n",
    "    #logits = SermanNet(x)\n",
    "    logits = SermanNet2(x)\n",
    "else:\n",
    "    logits = LeNet5(x)\n",
    "# tf.identity(logits, name=\"logits\")\n",
    "\n",
    "cross_entropy = tf.nn.softmax_cross_entropy_with_logits(labels=one_hot_y, logits=logits)\n",
    "loss = tf.reduce_mean(cross_entropy, name='loss')\n",
    "\n",
    "optimizer = tf.train.AdamOptimizer(learning_rate = rate)\n",
    "train_op = optimizer.minimize(loss,name='train_op')\n",
    "\n",
    "correct_prediction = tf.equal(tf.argmax(logits, 1), tf.argmax(one_hot_y, 1))\n",
    "accuracy_op = tf.reduce_mean(tf.cast(correct_prediction, tf.float32),name='accuracy_op')\n",
    "\n",
    "incorrect_op = tf.not_equal(tf.argmax(logits, 1), tf.argmax(one_hot_y, 1), name='incorrect_op')\n",
    "\n",
    "saver = tf.train.Saver()\n",
    "\n",
    "def evaluate(X_data, y_data):\n",
    "    num_examples = len(X_data)\n",
    "    total_accuracy = 0\n",
    "    sess = tf.get_default_session()\n",
    "    for offset in range(0, num_examples, BATCH_SIZE):\n",
    "        batch_x, batch_y = X_data[offset:offset+BATCH_SIZE], y_data[offset:offset+BATCH_SIZE]\n",
    "\n",
    "        if bUseDropout:\n",
    "            accuracy = sess.run(accuracy_op, feed_dict={x: batch_x, y: batch_y, keep1: 1.0, \n",
    "                                                        keep2: 1.0, keep3: 1.0, keep4: 1.0})\n",
    "        else:\n",
    "            accuracy = sess.run(accuracy_op, feed_dict={x: batch_x, y: batch_y})\n",
    "\n",
    "        total_accuracy += (accuracy * len(batch_x))\n",
    "    return total_accuracy / num_examples"
   ]
  },
  {
   "cell_type": "code",
   "execution_count": null,
   "metadata": {
    "collapsed": true
   },
   "outputs": [],
   "source": [
    "def incorrect_predict(X_data,y_data):\n",
    "    sess = tf.get_default_session()\n",
    "    num_examples = len(X_data)\n",
    "    output = np.array([])\n",
    "    for offset in range(0, num_examples, BATCH_SIZE):\n",
    "        batch_x, batch_y = X_data[offset:offset+BATCH_SIZE], y_data[offset:offset+BATCH_SIZE]\n",
    "        if bUseDropout:\n",
    "            incorrect = sess.run(incorrect_op, feed_dict={x: batch_x, y: batch_y, keep1: 1.0, \n",
    "                                                        keep2: 1.0, keep3: 1.0, keep4: 1.0})\n",
    "        else:\n",
    "            incorrect = sess.run(incorrect_op, feed_dict={x: batch_x, y: batch_y})       \n",
    "        output = np.append(output,incorrect,axis=0)\n",
    "    \n",
    "    return X_data[output]"
   ]
  },
  {
   "cell_type": "code",
   "execution_count": null,
   "metadata": {
    "collapsed": true
   },
   "outputs": [],
   "source": [
    "import glob\n",
    "import matplotlib.image as mpimg\n",
    "\n",
    "webImagesDir = 'WebImages'\n",
    "imageNames = glob.glob('WebImages/*.jpg')\n",
    "webImages = np.array([ mpimg.imread('./' + imgName ) for imgName in imageNames ])\n",
    "\n",
    "X_web = dataPreprocess(webImages,\"Web Images\")"
   ]
  },
  {
   "cell_type": "code",
   "execution_count": 16,
   "metadata": {},
   "outputs": [
    {
     "name": "stderr",
     "output_type": "stream",
     "text": [
      "Web Images: 100%|██████████| 7/7 [00:00<00:00, 3056.12Images/s]"
     ]
    },
    {
     "name": "stdout",
     "output_type": "stream",
     "text": [
      "(7, 32, 32, 1)\n"
     ]
    },
    {
     "name": "stderr",
     "output_type": "stream",
     "text": [
      "\n"
     ]
    }
   ],
   "source": [
    "# Y channel\n",
    "\n",
    "import glob\n",
    "import matplotlib.image as mpimg\n",
    "\n",
    "webImagesDir = 'WebImages'\n",
    "imageNames = glob.glob('WebImages/*.jpg')\n",
    "webImages = np.array([ mpimg.imread('./' + imgName ) for imgName in imageNames ])\n",
    "\n",
    "X_web = dataPreprocessYChannel(webImages,\"Web Images\")\n",
    "X_web = X_web.reshape(X_web.shape[0],X_web.shape[1],X_web.shape[2],-1)\n",
    "print(X_web.shape)"
   ]
  },
  {
   "cell_type": "code",
   "execution_count": null,
   "metadata": {
    "collapsed": true
   },
   "outputs": [],
   "source": [
    "X_train = X_web\n",
    "y_train = np.array([28,25,27,30,25,22,28])"
   ]
  },
  {
   "cell_type": "code",
   "execution_count": 21,
   "metadata": {},
   "outputs": [
    {
     "name": "stdout",
     "output_type": "stream",
     "text": [
      "344000\n",
      "2688\n",
      "344000\n",
      "(344000, 32, 32, 1)\n"
     ]
    }
   ],
   "source": [
    "import math\n",
    "\n",
    "# print(X_train.shape)\n",
    "# import numpy as np\n",
    "# np.reshape(X_train,(-1,32,32,-1))\n",
    "\n",
    "num_examples = len(X_train)\n",
    "num_batches = int(math.ceil(num_examples / BATCH_SIZE))\n",
    "print(num_examples)\n",
    "print(num_batches)\n",
    "print(len(y_train))\n",
    "print(X_train.shape)\n",
    "\n"
   ]
  },
  {
   "cell_type": "code",
   "execution_count": 22,
   "metadata": {
    "scrolled": false
   },
   "outputs": [
    {
     "name": "stderr",
     "output_type": "stream",
     "text": [
      "Epoch  1/50: 100%|██████████| 2688/2688 [00:44<00:00, 60.29batches/s]\n",
      "Epoch  2/50: 100%|██████████| 2688/2688 [00:44<00:00, 60.28batches/s]\n",
      "Epoch  3/50: 100%|██████████| 2688/2688 [00:44<00:00, 60.30batches/s]\n",
      "Epoch  4/50: 100%|██████████| 2688/2688 [00:44<00:00, 60.30batches/s]\n",
      "Epoch  5/50: 100%|██████████| 2688/2688 [00:44<00:00, 60.25batches/s]\n",
      "Epoch  6/50: 100%|██████████| 2688/2688 [00:44<00:00, 60.35batches/s]\n",
      "Epoch  7/50: 100%|██████████| 2688/2688 [00:44<00:00, 60.37batches/s]\n",
      "Epoch  8/50: 100%|██████████| 2688/2688 [00:44<00:00, 60.42batches/s]\n",
      "Epoch  9/50: 100%|██████████| 2688/2688 [00:44<00:00, 60.44batches/s]\n",
      "Epoch 10/50: 100%|██████████| 2688/2688 [00:44<00:00, 60.43batches/s]\n",
      "Epoch 11/50: 100%|██████████| 2688/2688 [00:44<00:00, 61.39batches/s]\n",
      "Epoch 12/50: 100%|██████████| 2688/2688 [00:44<00:00, 60.38batches/s]\n",
      "Epoch 13/50: 100%|██████████| 2688/2688 [00:44<00:00, 60.43batches/s]\n",
      "Epoch 14/50: 100%|██████████| 2688/2688 [00:44<00:00, 60.41batches/s]\n",
      "Epoch 15/50: 100%|██████████| 2688/2688 [00:44<00:00, 60.47batches/s]\n",
      "Epoch 16/50: 100%|██████████| 2688/2688 [00:44<00:00, 60.47batches/s]\n",
      "Epoch 17/50: 100%|██████████| 2688/2688 [00:44<00:00, 60.47batches/s]\n",
      "Epoch 18/50: 100%|██████████| 2688/2688 [00:44<00:00, 60.34batches/s]\n",
      "Epoch 19/50: 100%|██████████| 2688/2688 [00:44<00:00, 60.45batches/s]\n",
      "Epoch 20/50: 100%|██████████| 2688/2688 [00:44<00:00, 60.47batches/s]\n",
      "Epoch 21/50: 100%|██████████| 2688/2688 [00:44<00:00, 60.41batches/s]\n",
      "Epoch 22/50: 100%|██████████| 2688/2688 [00:44<00:00, 60.42batches/s]\n",
      "Epoch 23/50: 100%|██████████| 2688/2688 [00:44<00:00, 60.41batches/s]\n",
      "Epoch 24/50: 100%|██████████| 2688/2688 [00:44<00:00, 60.40batches/s]\n",
      "Epoch 25/50: 100%|██████████| 2688/2688 [00:44<00:00, 61.60batches/s]\n",
      "Epoch 26/50: 100%|██████████| 2688/2688 [00:44<00:00, 60.98batches/s]\n",
      "Epoch 27/50: 100%|██████████| 2688/2688 [00:44<00:00, 60.99batches/s]\n",
      "Epoch 28/50: 100%|██████████| 2688/2688 [00:44<00:00, 60.97batches/s]\n",
      "Epoch 29/50: 100%|██████████| 2688/2688 [00:44<00:00, 61.01batches/s]\n",
      "Epoch 30/50: 100%|██████████| 2688/2688 [00:44<00:00, 60.98batches/s]\n",
      "Epoch 31/50: 100%|██████████| 2688/2688 [00:44<00:00, 61.00batches/s]\n",
      "Epoch 32/50: 100%|██████████| 2688/2688 [00:44<00:00, 60.95batches/s]\n",
      "Epoch 33/50: 100%|██████████| 2688/2688 [00:44<00:00, 60.99batches/s]\n",
      "Epoch 34/50: 100%|██████████| 2688/2688 [00:44<00:00, 61.00batches/s]\n",
      "Epoch 35/50: 100%|██████████| 2688/2688 [00:44<00:00, 61.04batches/s]\n",
      "Epoch 36/50: 100%|██████████| 2688/2688 [00:44<00:00, 61.02batches/s]\n",
      "Epoch 37/50: 100%|██████████| 2688/2688 [00:44<00:00, 61.00batches/s]\n",
      "Epoch 38/50: 100%|██████████| 2688/2688 [00:44<00:00, 60.99batches/s]\n",
      "Epoch 39/50: 100%|██████████| 2688/2688 [00:44<00:00, 60.95batches/s]\n",
      "Epoch 40/50: 100%|██████████| 2688/2688 [00:44<00:00, 61.00batches/s]\n",
      "Epoch 41/50: 100%|██████████| 2688/2688 [00:44<00:00, 60.99batches/s]\n",
      "Epoch 42/50: 100%|██████████| 2688/2688 [00:44<00:00, 61.03batches/s]\n",
      "Epoch 43/50: 100%|██████████| 2688/2688 [00:44<00:00, 60.85batches/s]\n",
      "Epoch 44/50: 100%|██████████| 2688/2688 [00:44<00:00, 60.91batches/s]\n",
      "Epoch 45/50: 100%|██████████| 2688/2688 [00:44<00:00, 61.00batches/s]\n",
      "Epoch 46/50: 100%|██████████| 2688/2688 [00:44<00:00, 60.55batches/s]\n",
      "Epoch 47/50: 100%|██████████| 2688/2688 [00:44<00:00, 61.02batches/s]\n",
      "Epoch 48/50: 100%|██████████| 2688/2688 [00:44<00:00, 61.02batches/s]\n",
      "Epoch 49/50: 100%|██████████| 2688/2688 [00:44<00:00, 61.01batches/s]\n",
      "Epoch 50/50: 100%|██████████| 2688/2688 [00:44<00:00, 61.01batches/s]\n"
     ]
    },
    {
     "name": "stdout",
     "output_type": "stream",
     "text": [
      "\n",
      "Model saved\n",
      "\n",
      "Validation Accuracy\n",
      "EPOCH 1 ... 0.918\n",
      "EPOCH 2 ... 0.964\n",
      "EPOCH 3 ... 0.971\n",
      "EPOCH 4 ... 0.978\n",
      "EPOCH 5 ... 0.982\n",
      "EPOCH 6 ... 0.983\n",
      "EPOCH 7 ... 0.983\n",
      "EPOCH 8 ... 0.982\n",
      "EPOCH 9 ... 0.986\n",
      "EPOCH 10 ... 0.988\n",
      "EPOCH 11 ... 0.983\n",
      "EPOCH 12 ... 0.985\n",
      "EPOCH 13 ... 0.986\n",
      "EPOCH 14 ... 0.987\n",
      "EPOCH 15 ... 0.987\n",
      "EPOCH 16 ... 0.988\n",
      "EPOCH 17 ... 0.989\n",
      "EPOCH 18 ... 0.985\n",
      "EPOCH 19 ... 0.988\n",
      "EPOCH 20 ... 0.986\n",
      "EPOCH 21 ... 0.989\n",
      "EPOCH 22 ... 0.988\n",
      "EPOCH 23 ... 0.989\n",
      "EPOCH 24 ... 0.987\n",
      "EPOCH 25 ... 0.986\n",
      "EPOCH 26 ... 0.989\n",
      "EPOCH 27 ... 0.988\n",
      "EPOCH 28 ... 0.989\n",
      "EPOCH 29 ... 0.989\n",
      "EPOCH 30 ... 0.990\n",
      "EPOCH 31 ... 0.988\n",
      "EPOCH 32 ... 0.988\n",
      "EPOCH 33 ... 0.988\n",
      "EPOCH 34 ... 0.988\n",
      "EPOCH 35 ... 0.988\n",
      "EPOCH 36 ... 0.987\n",
      "EPOCH 37 ... 0.989\n",
      "EPOCH 38 ... 0.989\n",
      "EPOCH 39 ... 0.988\n",
      "EPOCH 40 ... 0.986\n",
      "EPOCH 41 ... 0.990\n",
      "EPOCH 42 ... 0.991\n",
      "EPOCH 43 ... 0.989\n",
      "EPOCH 44 ... 0.988\n",
      "EPOCH 45 ... 0.991\n",
      "EPOCH 46 ... 0.989\n",
      "EPOCH 47 ... 0.990\n",
      "EPOCH 48 ... 0.989\n",
      "EPOCH 49 ... 0.987\n",
      "EPOCH 50 ... 0.986\n",
      "\n",
      "Train Accuracy = 0.856\n",
      "\n",
      "Test Accuracy = 0.965\n"
     ]
    }
   ],
   "source": [
    "from sklearn.utils import shuffle\n",
    "from tqdm import tqdm\n",
    "import math\n",
    "\n",
    "valid_accuracy_sets = np.zeros((EPOCHS), dtype=np.float32)\n",
    "test_accuracy = -1.0\n",
    "train_accuracy = -1.0\n",
    "\n",
    "with tf.Session() as sess:\n",
    "    sess.run(tf.global_variables_initializer())\n",
    "    num_examples = len(X_train)\n",
    "    num_batches = int(math.ceil(num_examples / BATCH_SIZE))\n",
    "\n",
    "    for i in range(EPOCHS):\n",
    "        X_train, y_train = shuffle(X_train, y_train)\n",
    "\n",
    "        # Progress bar\n",
    "        pbar = tqdm(range(num_batches), desc='Epoch {:>2}/{}'.format(i + 1, EPOCHS), unit='batches')\n",
    "\n",
    "        # The training cycle\n",
    "        for batch_i in pbar:\n",
    "            offset = batch_i * BATCH_SIZE\n",
    "            end = offset + BATCH_SIZE\n",
    "            batch_x, batch_y = X_train[offset:end], y_train[offset:end]\n",
    "\n",
    "            if bUseDropout:\n",
    "                sess.run(train_op, feed_dict={x: batch_x, y: batch_y, keep1: KEEPRATE1,\n",
    "                                             keep2: KEEPRATE2, keep3: KEEPRATE3, keep4: KEEPRATE4})\n",
    "            else:\n",
    "                sess.run(train_op, feed_dict={x: batch_x, y: batch_y})\n",
    "\n",
    "        validation_accuracy = evaluate(X_valid, y_valid)\n",
    "        valid_accuracy_sets[i] = validation_accuracy\n",
    "\n",
    "    test_accuracy = evaluate(X_test, y_test)\n",
    "    train_accuracy = evaluate(X_train,y_train)\n",
    "    \n",
    "    web_softmax = sess.run(tf.nn.softmax(logits), feed_dict={x: X_web, keep1: 1.0,\n",
    "                                                             keep2: 1.0, keep3: 1.0, keep4: 1.0})\n",
    "    \n",
    "    predicts = sess.run(tf.nn.top_k(web_softmax, k=5, sorted=True))\n",
    "    \n",
    "\n",
    "#     graph = tf.get_default_graph()\n",
    "#     conv1_w = graph.get_tensor_by_name(\"conv1_w:0\")\n",
    "#     cw_value = sess.run(conv1_w)\n",
    "#     print(cw_value[:,:,1,0])\n",
    "    \n",
    "    saver.save(sess, modelPath)\n",
    "    print()\n",
    "    print(\"Model saved\")\n",
    "    print()\n",
    "\n",
    "\n",
    "print(\"Validation Accuracy\")\n",
    "for i, acc in enumerate(valid_accuracy_sets):\n",
    "    print(\"EPOCH {} ... {:.3f}\".format(i + 1, acc))\n",
    "print()\n",
    "print(\"Train Accuracy = {:.3f}\".format(train_accuracy))\n",
    "print()\n",
    "print(\"Test Accuracy = {:.3f}\".format(test_accuracy))"
   ]
  },
  {
   "cell_type": "code",
   "execution_count": 24,
   "metadata": {},
   "outputs": [
    {
     "data": {
      "image/png": "[encoded data removed]",
      "text/plain": [
       "<matplotlib.figure.Figure at 0x7f3db84ccd30>"
      ]
     },
     "metadata": {},
     "output_type": "display_data"
    }
   ],
   "source": [
    "import matplotlib.pyplot as plt\n",
    "fig, ax = plt.subplots(ncols=1, figsize=(5, 4))\n",
    "ax.plot(range(1, EPOCHS + 1), valid_accuracy_sets)\n",
    "ax.set_xlabel('Epochs')\n",
    "ax.set_ylabel('Validation Accuracy')\n",
    "ax.grid(True)\n",
    "plt.show()"
   ]
  },
  {
   "cell_type": "markdown",
   "metadata": {},
   "source": [
    "---\n",
    "\n",
    "## Step 3: Test a Model on New Images\n",
    "\n",
    "To give yourself more insight into how your model is working, download at least five pictures of German traffic signs from the web and use your model to predict the traffic sign type.\n",
    "\n",
    "You may find `signnames.csv` useful as it contains mappings from the class id (integer) to the actual sign name."
   ]
  },
  {
   "cell_type": "markdown",
   "metadata": {},
   "source": [
    "### Load and Output the Images"
   ]
  },
  {
   "cell_type": "code",
   "execution_count": null,
   "metadata": {
    "collapsed": true
   },
   "outputs": [],
   "source": [
    "import numpy as np\n",
    "import cv2\n",
    "import os\n",
    "import matplotlib.pyplot as plt\n",
    "# Visualizations will be shown in the notebook.\n",
    "%matplotlib inline\n",
    "import glob\n",
    "import matplotlib.image as mpimg\n",
    "\n",
    "\n",
    "webImagesDir = 'WebImages'\n",
    "imageNames = glob.glob('WebImages/*.jpg')\n",
    "webImages = np.array([ mpimg.imread('./' + imgName ) for imgName in imageNames ])\n",
    "\n",
    "fig, axes = plt.subplots(ncols=len(webImages), figsize=(16, 8))\n",
    "for ax, image, imageName in zip(axes, webImages, imageNames):\n",
    "    ax.imshow(image)\n",
    "    #ax.set_title(imageName)\n",
    "plt.show()"
   ]
  },
  {
   "cell_type": "markdown",
   "metadata": {},
   "source": [
    "### Predict the Sign Type for Each Image"
   ]
  },
  {
   "cell_type": "code",
   "execution_count": null,
   "metadata": {
    "collapsed": true
   },
   "outputs": [],
   "source": [
    "import tensorflow as tf\n",
    "\n",
    "X_web = dataPreprocess(webImages,\"Web Images\")"
   ]
  },
  {
   "cell_type": "code",
   "execution_count": null,
   "metadata": {
    "collapsed": true
   },
   "outputs": [],
   "source": [
    "sess = tf.Session()\n",
    "\n",
    "modelPath = 'models/trafficSign'\n",
    "modelGraphFile = modelPath + '.meta'\n",
    "\n",
    "saver = tf.train.import_meta_graph(modelGraphFile)\n",
    "saver.restore(sess,tf.train.latest_checkpoint('./models/'))\n",
    "\n",
    "graph = tf.get_default_graph()\n",
    "x = graph.get_tensor_by_name(\"x:0\")\n",
    "y = graph.get_tensor_by_name(\"y:0\")\n",
    "keep1 = graph.get_tensor_by_name(\"keep1:0\")\n",
    "keep2 = graph.get_tensor_by_name(\"keep2:0\")\n",
    "keep3 = graph.get_tensor_by_name(\"keep3:0\")\n",
    "keep4 = graph.get_tensor_by_name(\"keep4:0\")\n",
    "logits = graph.get_tensor_by_name(\"logits:0\")\n",
    "one_hot_y = tf.one_hot(y,43)\n",
    "\n",
    "web_softmax = sess.run(tf.nn.softmax(logits), feed_dict={x: X_web, keep1:1.0,\n",
    "                                                             keep2:1.0, keep3:1.0, keep4:1.0})\n",
    "\n",
    "predicts = sess.run(tf.nn.top_k(web_softmax, k=5, sorted=True))\n",
    "\n",
    "incorrect_op = tf.not_equal(tf.argmax(logits, 1), tf.argmax(one_hot_y, 1))\n",
    "y_v = np.array([28,25,27,30,25,22,28])\n",
    "incorrect = sess.run(incorrect_op, feed_dict={x: X_web, y: y_v, keep1: 1.0,\n",
    "                                                keep2: 1.0, keep3: 1.0, keep4: 1.0})\n",
    "incorrect_images = X_web[incorrect]"
   ]
  },
  {
   "cell_type": "code",
   "execution_count": 23,
   "metadata": {
    "scrolled": true
   },
   "outputs": [
    {
     "name": "stdout",
     "output_type": "stream",
     "text": [
      "Image: WebImages/s3-Pedestrians.jpg\n",
      "Top 5 Probabilities:\n",
      "   1.00000 : 27 - Pedestrians\n",
      "   0.00000 : 24 - Road narrows on the right\n",
      "   0.00000 : 28 - Children crossing\n",
      "   0.00000 : 11 - Right-of-way at the next intersection\n",
      "   0.00000 : 20 - Dangerous curve to the right\n",
      "\n",
      "Image: WebImages/s5-roadwork.jpg\n",
      "Top 5 Probabilities:\n",
      "   0.83741 : 25 - Road work\n",
      "   0.15752 : 29 - Bicycles crossing\n",
      "   0.00450 : 22 - Bumpy road\n",
      "   0.00023 : 30 - Beware of ice/snow\n",
      "   0.00017 : 28 - Children crossing\n",
      "\n",
      "Image: WebImages/s7-child.jpg\n",
      "Top 5 Probabilities:\n",
      "   0.99999 : 28 - Children crossing\n",
      "   0.00001 : 27 - Pedestrians\n",
      "   0.00000 : 30 - Beware of ice/snow\n",
      "   0.00000 : 29 - Bicycles crossing\n",
      "   0.00000 : 20 - Dangerous curve to the right\n",
      "\n",
      "Image: WebImages/s4-ice.jpg\n",
      "Top 5 Probabilities:\n",
      "   0.98137 : 30 - Beware of ice/snow\n",
      "   0.01580 : 11 - Right-of-way at the next intersection\n",
      "   0.00278 : 23 - Slippery road\n",
      "   0.00005 : 25 - Road work\n",
      "   0.00000 : 12 - Priority road\n",
      "\n",
      "Image: WebImages/s6-bumpy.jpg\n",
      "Top 5 Probabilities:\n",
      "   1.00000 : 22 - Bumpy road\n",
      "   0.00000 : 29 - Bicycles crossing\n",
      "   0.00000 : 23 - Slippery road\n",
      "   0.00000 : 25 - Road work\n",
      "   0.00000 : 26 - Traffic signals\n",
      "\n",
      "Image: WebImages/s1-child.jpg\n",
      "Top 5 Probabilities:\n",
      "   0.99993 : 28 - Children crossing\n",
      "   0.00007 : 3 - Speed limit (60km/h)\n",
      "   0.00000 : 29 - Bicycles crossing\n",
      "   0.00000 : 30 - Beware of ice/snow\n",
      "   0.00000 : 25 - Road work\n",
      "\n",
      "Image: WebImages/s2-roadwork.jpg\n",
      "Top 5 Probabilities:\n",
      "   0.99999 : 25 - Road work\n",
      "   0.00001 : 22 - Bumpy road\n",
      "   0.00000 : 29 - Bicycles crossing\n",
      "   0.00000 : 12 - Priority road\n",
      "   0.00000 : 20 - Dangerous curve to the right\n",
      "\n"
     ]
    }
   ],
   "source": [
    "import matplotlib.pyplot as plt\n",
    "for i in range(len(predicts[0])):\n",
    "    print('Image: ' + imageNames[i])\n",
    "    print('Top 5 Probabilities:')\n",
    "    for j in range(0, len(predicts[0][i])):\n",
    "        prob = predicts[0][i][j]\n",
    "        index = predicts[1][i][j]\n",
    "        name = signNames[index]\n",
    "        print('   {:.5f} : {} - {}'.format(prob, index, name))\n",
    "    print()"
   ]
  },
  {
   "cell_type": "code",
   "execution_count": null,
   "metadata": {
    "collapsed": true
   },
   "outputs": [],
   "source": [
    "def plotOutput(classes, names):\n",
    "    \"\"\"\n",
    "    Plot the network output\n",
    "    \"\"\"\n",
    "    nCols = len(classes)\n",
    "    assert(nCols == len(names))\n",
    "    \n",
    "    fig, axes = plt.subplots(ncols=nCols, figsize=(4*nCols, 4))\n",
    "    for ax, aClass, title in zip(axes, classes, names):        \n",
    "        ax.bar(range(0,43), aClass)\n",
    "        ax.set_xlabel('Hist')\n",
    "        ax.set_ylabel('Count')\n",
    "        ax.set_title(title)\n",
    "        ax.grid(True)\n",
    "        \n",
    "    fig.tight_layout()\n",
    "    plt.show()\n",
    "\n",
    "plotOutput(web_softmax, imageNames)"
   ]
  },
  {
   "cell_type": "code",
   "execution_count": null,
   "metadata": {
    "collapsed": true
   },
   "outputs": [],
   "source": [
    "import matplotlib.pyplot as plt\n",
    "fig, axes = plt.subplots(ncols=len(webImages), figsize=(16, 8))\n",
    "for ax, image, imageName, predictedName in zip(axes, webImages, imageNames, namedPredictions):\n",
    "    index = predicts[1][1]\n",
    "    ax.imshow(image)\n",
    "    ax.set_title('{}'.format(predictedName))"
   ]
  },
  {
   "cell_type": "markdown",
   "metadata": {},
   "source": [
    "### Analyze Performance"
   ]
  },
  {
   "cell_type": "code",
   "execution_count": null,
   "metadata": {
    "collapsed": true
   },
   "outputs": [],
   "source": [
    "### Calculate the accuracy for these 5 new images. \n",
    "### For example, if the model predicted 1 out of 5 signs correctly, it's 20% accurate on these new images."
   ]
  },
  {
   "cell_type": "markdown",
   "metadata": {},
   "source": [
    "### Output Top 5 Softmax Probabilities For Each Image Found on the Web"
   ]
  },
  {
   "cell_type": "markdown",
   "metadata": {},
   "source": [
    "For each of the new images, print out the model's softmax probabilities to show the **certainty** of the model's predictions (limit the output to the top 5 probabilities for each image). [`tf.nn.top_k`](https://www.tensorflow.org/versions/r0.12/api_docs/python/nn.html#top_k) could prove helpful here. \n",
    "\n",
    "The example below demonstrates how tf.nn.top_k can be used to find the top k predictions for each image.\n",
    "\n",
    "`tf.nn.top_k` will return the values and indices (class ids) of the top k predictions. So if k=3, for each sign, it'll return the 3 largest probabilities (out of a possible 43) and the correspoding class ids.\n",
    "\n",
    "Take this numpy array as an example. The values in the array represent predictions. The array contains softmax probabilities for five candidate images with six possible classes. `tf.nn.top_k` is used to choose the three classes with the highest probability:\n",
    "\n",
    "```\n",
    "# (5, 6) array\n",
    "a = np.array([[ 0.24879643,  0.07032244,  0.12641572,  0.34763842,  0.07893497,\n",
    "         0.12789202],\n",
    "       [ 0.28086119,  0.27569815,  0.08594638,  0.0178669 ,  0.18063401,\n",
    "         0.15899337],\n",
    "       [ 0.26076848,  0.23664738,  0.08020603,  0.07001922,  0.1134371 ,\n",
    "         0.23892179],\n",
    "       [ 0.11943333,  0.29198961,  0.02605103,  0.26234032,  0.1351348 ,\n",
    "         0.16505091],\n",
    "       [ 0.09561176,  0.34396535,  0.0643941 ,  0.16240774,  0.24206137,\n",
    "         0.09155967]])\n",
    "```\n",
    "\n",
    "Running it through `sess.run(tf.nn.top_k(tf.constant(a), k=3))` produces:\n",
    "\n",
    "```\n",
    "TopKV2(values=array([[ 0.34763842,  0.24879643,  0.12789202],\n",
    "       [ 0.28086119,  0.27569815,  0.18063401],\n",
    "       [ 0.26076848,  0.23892179,  0.23664738],\n",
    "       [ 0.29198961,  0.26234032,  0.16505091],\n",
    "       [ 0.34396535,  0.24206137,  0.16240774]]), indices=array([[3, 0, 5],\n",
    "       [0, 1, 4],\n",
    "       [0, 5, 1],\n",
    "       [1, 3, 5],\n",
    "       [1, 4, 3]], dtype=int32))\n",
    "```\n",
    "\n",
    "Looking just at the first row we get `[ 0.34763842,  0.24879643,  0.12789202]`, you can confirm these are the 3 largest probabilities in `a`. You'll also notice `[3, 0, 5]` are the corresponding indices."
   ]
  },
  {
   "cell_type": "code",
   "execution_count": null,
   "metadata": {
    "collapsed": true
   },
   "outputs": [],
   "source": [
    "### Print out the top five softmax probabilities for the predictions on the German traffic sign images found on the web. \n",
    "### Feel free to use as many code cells as needed."
   ]
  },
  {
   "cell_type": "markdown",
   "metadata": {},
   "source": [
    "### Project Writeup\n",
    "\n",
    "Once you have completed the code implementation, document your results in a project writeup using this [template](https://github.com/udacity/CarND-Traffic-Sign-Classifier-Project/blob/master/writeup_template.md) as a guide. The writeup can be in a markdown or pdf file. "
   ]
  },
  {
   "cell_type": "markdown",
   "metadata": {},
   "source": [
    "> **Note**: Once you have completed all of the code implementations and successfully answered each question above, you may finalize your work by exporting the iPython Notebook as an HTML document. You can do this by using the menu above and navigating to  \\n\",\n",
    "    \"**File -> Download as -> HTML (.html)**. Include the finished document along with this notebook as your submission."
   ]
  },
  {
   "cell_type": "markdown",
   "metadata": {},
   "source": [
    "---\n",
    "\n",
    "## Step 4 (Optional): Visualize the Neural Network's State with Test Images\n",
    "\n",
    " This Section is not required to complete but acts as an additional excersise for understaning the output of a neural network's weights. While neural networks can be a great learning device they are often referred to as a black box. We can understand what the weights of a neural network look like better by plotting their feature maps. After successfully training your neural network you can see what it's feature maps look like by plotting the output of the network's weight layers in response to a test stimuli image. From these plotted feature maps, it's possible to see what characteristics of an image the network finds interesting. For a sign, maybe the inner network feature maps react with high activation to the sign's boundary outline or to the contrast in the sign's painted symbol.\n",
    "\n",
    " Provided for you below is the function code that allows you to get the visualization output of any tensorflow weight layer you want. The inputs to the function should be a stimuli image, one used during training or a new one you provided, and then the tensorflow variable name that represents the layer's state during the training process, for instance if you wanted to see what the [LeNet lab's](https://classroom.udacity.com/nanodegrees/nd013/parts/fbf77062-5703-404e-b60c-95b78b2f3f9e/modules/6df7ae49-c61c-4bb2-a23e-6527e69209ec/lessons/601ae704-1035-4287-8b11-e2c2716217ad/concepts/d4aca031-508f-4e0b-b493-e7b706120f81) feature maps looked like for it's second convolutional layer you could enter conv2 as the tf_activation variable.\n",
    "\n",
    "For an example of what feature map outputs look like, check out NVIDIA's results in their paper [End-to-End Deep Learning for Self-Driving Cars](https://devblogs.nvidia.com/parallelforall/deep-learning-self-driving-cars/) in the section Visualization of internal CNN State. NVIDIA was able to show that their network's inner weights had high activations to road boundary lines by comparing feature maps from an image with a clear path to one without. Try experimenting with a similar test to show that your trained network's weights are looking for interesting features, whether it's looking at differences in feature maps from images with or without a sign, or even what feature maps look like in a trained network vs a completely untrained one on the same sign image.\n",
    "\n",
    "<figure>\n",
    " <img src=\"visualize_cnn.png\" width=\"380\" alt=\"Combined Image\" />\n",
    " <figcaption>\n",
    " <p></p> \n",
    " <p style=\"text-align: center;\"> Your output should look something like this (above)</p> \n",
    " </figcaption>\n",
    "</figure>\n",
    " <p></p> \n"
   ]
  },
  {
   "cell_type": "code",
   "execution_count": null,
   "metadata": {
    "collapsed": true
   },
   "outputs": [],
   "source": [
    "### Visualize your network's feature maps here.\n",
    "### Feel free to use as many code cells as needed.\n",
    "\n",
    "# image_input: the test image being fed into the network to produce the feature maps\n",
    "# tf_activation: should be a tf variable name used during your training procedure that represents the calculated state of a specific weight layer\n",
    "# activation_min/max: can be used to view the activation contrast in more detail, by default matplot sets min and max to the actual min and max values of the output\n",
    "# plt_num: used to plot out multiple different weight feature map sets on the same block, just extend the plt number for each new feature map entry\n",
    "\n",
    "def outputFeatureMap(image_input, tf_activation, activation_min=-1, activation_max=-1 ,plt_num=1):\n",
    "    # Here make sure to preprocess your image_input in a way your network expects\n",
    "    # with size, normalization, ect if needed\n",
    "    # image_input =\n",
    "    # Note: x should be the same name as your network's tensorflow data placeholder variable\n",
    "    # If you get an error tf_activation is not defined it may be having trouble accessing the variable from inside a function\n",
    "    activation = tf_activation.eval(session=sess,feed_dict={x : image_input})\n",
    "    featuremaps = activation.shape[3]\n",
    "    plt.figure(plt_num, figsize=(15,15))\n",
    "    for featuremap in range(featuremaps):\n",
    "        plt.subplot(6,8, featuremap+1) # sets the number of feature maps to show on each row and column\n",
    "        plt.title('FeatureMap ' + str(featuremap)) # displays the feature map number\n",
    "        if activation_min != -1 & activation_max != -1:\n",
    "            plt.imshow(activation[0,:,:, featuremap], interpolation=\"nearest\", vmin =activation_min, vmax=activation_max, cmap=\"gray\")\n",
    "        elif activation_max != -1:\n",
    "            plt.imshow(activation[0,:,:, featuremap], interpolation=\"nearest\", vmax=activation_max, cmap=\"gray\")\n",
    "        elif activation_min !=-1:\n",
    "            plt.imshow(activation[0,:,:, featuremap], interpolation=\"nearest\", vmin=activation_min, cmap=\"gray\")\n",
    "        else:\n",
    "            plt.imshow(activation[0,:,:, featuremap], interpolation=\"nearest\", cmap=\"gray\")"
   ]
  }
 ],
 "metadata": {
  "anaconda-cloud": {},
  "kernelspec": {
   "display_name": "Python 3",
   "language": "python",
   "name": "python3"
  },
  "language_info": {
   "codemirror_mode": {
    "name": "ipython",
    "version": 3
   },
   "file_extension": ".py",
   "mimetype": "text/x-python",
   "name": "python",
   "nbconvert_exporter": "python",
   "pygments_lexer": "ipython3",
   "version": "3.5.2"
  },
  "widgets": {
   "state": {},
   "version": "1.1.2"
  }
 },
 "nbformat": 4,
 "nbformat_minor": 1
}
